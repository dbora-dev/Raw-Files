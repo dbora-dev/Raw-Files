{
 "cells": [
  {
   "cell_type": "markdown",
   "id": "56a5216e",
   "metadata": {},
   "source": [
    "## In this lab, you'll build a CNN from scratch to:\n",
    "\n",
    "##### 1. classify the main subject in an image\n",
    "######  2. localize it by drawing bounding boxes around it.\n",
    "\n",
    "##### You'll use the MNIST dataset to synthesize a custom dataset for the task:\n",
    "#####  Place each \"digit\" image on a black canvas of width 75 x 75 at random locations.\n",
    "###### Calculate the corresponding bounding boxes for those \"digits\".\n",
    "\n"
   ]
  },
  {
   "cell_type": "code",
   "execution_count": null,
   "id": "f17f1fd5",
   "metadata": {},
   "outputs": [],
   "source": []
  }
 ],
 "metadata": {
  "kernelspec": {
   "display_name": "Python 3",
   "language": "python",
   "name": "python3"
  },
  "language_info": {
   "codemirror_mode": {
    "name": "ipython",
    "version": 3
   },
   "file_extension": ".py",
   "mimetype": "text/x-python",
   "name": "python",
   "nbconvert_exporter": "python",
   "pygments_lexer": "ipython3",
   "version": "3.6.13"
  }
 },
 "nbformat": 4,
 "nbformat_minor": 5
}
