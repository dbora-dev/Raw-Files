{
 "cells": [
  {
   "cell_type": "markdown",
   "id": "91755d7f",
   "metadata": {},
   "source": [
    "### Image Agumentation : Cats vs Dogs Images"
   ]
  },
  {
   "cell_type": "code",
   "execution_count": 1,
   "id": "0042e3ff",
   "metadata": {},
   "outputs": [],
   "source": [
    "import zipfile36 as zipfile"
   ]
  },
  {
   "cell_type": "code",
   "execution_count": 2,
   "id": "d9f58663",
   "metadata": {},
   "outputs": [],
   "source": [
    "import tensorflow as tf\n",
    "import numpy as np\n",
    "from tensorflow import keras\n",
    "import os"
   ]
  },
  {
   "cell_type": "markdown",
   "id": "c9689665",
   "metadata": {},
   "source": [
    "### Extract the Zip file :"
   ]
  },
  {
   "cell_type": "code",
   "execution_count": 3,
   "id": "c664cf91",
   "metadata": {},
   "outputs": [],
   "source": [
    "local_zip = \"./Data/temp/kaggle_cats_and_dogs.zip\""
   ]
  },
  {
   "cell_type": "code",
   "execution_count": 4,
   "id": "bd1d5306",
   "metadata": {},
   "outputs": [],
   "source": [
    "zip_ref = zipfile.ZipFile(local_zip,'r')"
   ]
  },
  {
   "cell_type": "code",
   "execution_count": 5,
   "id": "5e17201f",
   "metadata": {},
   "outputs": [],
   "source": [
    "zip_ref.extractall(\"./Data/temp/Extract_data\")"
   ]
  },
  {
   "cell_type": "code",
   "execution_count": 6,
   "id": "d7c32e98",
   "metadata": {},
   "outputs": [],
   "source": [
    "zip_ref.close()"
   ]
  },
  {
   "cell_type": "code",
   "execution_count": 7,
   "id": "41defa35",
   "metadata": {},
   "outputs": [],
   "source": [
    "# create source path to Dogs and Cats :"
   ]
  },
  {
   "cell_type": "code",
   "execution_count": 18,
   "id": "8736f970",
   "metadata": {},
   "outputs": [
    {
     "name": "stdout",
     "output_type": "stream",
     "text": [
      "ERROR! Session/line number was not unique in database. History logging moved to new session 582\n"
     ]
    }
   ],
   "source": [
    "source_path = \"./Data/temp/Extract_data/PetImages\""
   ]
  },
  {
   "cell_type": "code",
   "execution_count": 19,
   "id": "742f4c3e",
   "metadata": {},
   "outputs": [],
   "source": [
    "source_path_dogs = os.path.join(source_path,\"Dog\")"
   ]
  },
  {
   "cell_type": "code",
   "execution_count": 20,
   "id": "d64a8c46",
   "metadata": {},
   "outputs": [],
   "source": [
    "source_path_cats = os.path.join(source_path,\"Cat\")"
   ]
  },
  {
   "cell_type": "code",
   "execution_count": 21,
   "id": "5858e373",
   "metadata": {},
   "outputs": [
    {
     "name": "stdout",
     "output_type": "stream",
     "text": [
      "12501 Images of Dogs.\n",
      "\n",
      "12501 Images of Cats.\n",
      "\n"
     ]
    }
   ],
   "source": [
    "print(f\"{len(os.listdir(source_path_dogs))} Images of Dogs.\\n\")\n",
    "print(f\"{len(os.listdir(source_path_cats))} Images of Cats.\\n\")"
   ]
  },
  {
   "cell_type": "markdown",
   "id": "f8266c12",
   "metadata": {},
   "source": [
    "### Create a Vlidation Directory :"
   ]
  },
  {
   "cell_type": "code",
   "execution_count": 30,
   "id": "2df7512b",
   "metadata": {},
   "outputs": [],
   "source": [
    "root_folder = os.path.join(\"./Data\",\"Cats_vs_Dogs\")"
   ]
  },
  {
   "cell_type": "code",
   "execution_count": 31,
   "id": "79e8dcf4",
   "metadata": {},
   "outputs": [],
   "source": [
    "def create_train_val_dir(root_path):\n",
    "    \n",
    "    val_folder = os.path.join(root_path,\"validation\")\n",
    "    os.makedirs(val_folder)\n",
    "    train_folder = os.path.join(root_path,\"training\")\n",
    "    os.makedirs(train_folder)\n",
    "    \n",
    "    os.path.join(train_folder,\"cats\")\n",
    "    os.path.join(train_folder,\"dogs\")\n",
    "    os.path.join(val_folder,\"cats\")\n",
    "    os.path.join(val_folder,\"dogs\")\n",
    "    \n",
    "    \n",
    "    \n",
    "    \n",
    "        "
   ]
  },
  {
   "cell_type": "code",
   "execution_count": 32,
   "id": "aa0b6723",
   "metadata": {},
   "outputs": [
    {
     "name": "stdout",
     "output_type": "stream",
     "text": [
      "You should not be seeing this since the upper directory is removed beforehand\n"
     ]
    }
   ],
   "source": [
    "try:\n",
    "    create_train_val_dir(root_path=root_folder)\n",
    "except FileExistsError:\n",
    "    print(\"You should not be seeing this since the upper directory is removed beforehand\")\n"
   ]
  },
  {
   "cell_type": "code",
   "execution_count": null,
   "id": "7d355e3f",
   "metadata": {},
   "outputs": [],
   "source": []
  },
  {
   "cell_type": "code",
   "execution_count": null,
   "id": "db19a729",
   "metadata": {},
   "outputs": [],
   "source": []
  },
  {
   "cell_type": "code",
   "execution_count": null,
   "id": "39c169ee",
   "metadata": {},
   "outputs": [],
   "source": []
  },
  {
   "cell_type": "code",
   "execution_count": null,
   "id": "dfb014f2",
   "metadata": {},
   "outputs": [],
   "source": []
  },
  {
   "cell_type": "code",
   "execution_count": null,
   "id": "b7681f2c",
   "metadata": {},
   "outputs": [],
   "source": []
  },
  {
   "cell_type": "code",
   "execution_count": null,
   "id": "e6d22342",
   "metadata": {},
   "outputs": [],
   "source": []
  },
  {
   "cell_type": "code",
   "execution_count": null,
   "id": "8bb412d8",
   "metadata": {},
   "outputs": [],
   "source": []
  }
 ],
 "metadata": {
  "kernelspec": {
   "display_name": "Python 3",
   "language": "python",
   "name": "python3"
  },
  "language_info": {
   "codemirror_mode": {
    "name": "ipython",
    "version": 3
   },
   "file_extension": ".py",
   "mimetype": "text/x-python",
   "name": "python",
   "nbconvert_exporter": "python",
   "pygments_lexer": "ipython3",
   "version": "3.6.13"
  }
 },
 "nbformat": 4,
 "nbformat_minor": 5
}
