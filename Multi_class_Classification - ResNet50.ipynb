{
 "cells": [
  {
   "cell_type": "markdown",
   "id": "0a5853e5",
   "metadata": {},
   "source": [
    "### Transfer Learning :"
   ]
  },
  {
   "cell_type": "markdown",
   "id": "4ae954a4",
   "metadata": {},
   "source": [
    "#### 1. Muticlass classification CIFAR-10 dataset on ResNet50 model "
   ]
  },
  {
   "cell_type": "code",
   "execution_count": 1,
   "id": "2cd98f7f",
   "metadata": {},
   "outputs": [],
   "source": [
    "import time, os, json, re\n",
    "import tensorflow as tf\n",
    "import numpy as np\n",
    "import matplotlib.pyplot as plt\n",
    "from tensorflow.keras.applications.resnet50 import ResNet50\n",
    "from tensorflow.keras import datasets as tf_datasets"
   ]
  },
  {
   "cell_type": "code",
   "execution_count": 2,
   "id": "914fe8f5",
   "metadata": {},
   "outputs": [],
   "source": [
    "# Define the batch size and classes :"
   ]
  },
  {
   "cell_type": "code",
   "execution_count": 3,
   "id": "e0220d87",
   "metadata": {},
   "outputs": [],
   "source": [
    "BATCH_SIZE = 32\n",
    "classes = ['airplane', 'automobile', 'bird', 'cat', 'deer', 'dog', 'frog', 'horse', 'ship', 'truck']"
   ]
  },
  {
   "cell_type": "code",
   "execution_count": 4,
   "id": "f302f074",
   "metadata": {},
   "outputs": [],
   "source": [
    "plt.rc('image', cmap='gray')\n",
    "plt.rc('grid', linewidth=0)\n",
    "plt.rc('xtick', top=False, bottom=False, labelsize='large')\n",
    "plt.rc('ytick', left=False, right=False, labelsize='large')\n",
    "plt.rc('axes', facecolor='F8F8F8', titlesize=\"large\", edgecolor='white')\n",
    "plt.rc('text', color='a8151a')\n",
    "plt.rc('figure', facecolor='F0F0F0')"
   ]
  },
  {
   "cell_type": "code",
   "execution_count": 5,
   "id": "bc894709",
   "metadata": {},
   "outputs": [],
   "source": [
    "MATPLOTLIB_FONT_DIR = os.path.join(os.path.dirname(plt.__file__), \"mpl-data/fonts/ttf\")"
   ]
  },
  {
   "cell_type": "code",
   "execution_count": null,
   "id": "e0123dca",
   "metadata": {},
   "outputs": [],
   "source": [
    "def display_images(images,prediction,label,title):\n",
    "    n = 10\n",
    "    indexes = np.random.choice(len(prediction),size=n)\n",
    "    n_images = images[indexes]\n",
    "    n_prediction = prediction[indexes]\n",
    "    n_prediction = n_prediction.reshape((n,))\n",
    "    n_label = label"
   ]
  }
 ],
 "metadata": {
  "kernelspec": {
   "display_name": "Python 3",
   "language": "python",
   "name": "python3"
  },
  "language_info": {
   "codemirror_mode": {
    "name": "ipython",
    "version": 3
   },
   "file_extension": ".py",
   "mimetype": "text/x-python",
   "name": "python",
   "nbconvert_exporter": "python",
   "pygments_lexer": "ipython3",
   "version": "3.6.13"
  }
 },
 "nbformat": 4,
 "nbformat_minor": 5
}
