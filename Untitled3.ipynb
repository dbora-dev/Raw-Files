{
 "cells": [
  {
   "cell_type": "markdown",
   "id": "d72304c6-6f88-40db-983f-00bad3529e17",
   "metadata": {},
   "source": [
    "### Import Required Modules :"
   ]
  },
  {
   "cell_type": "code",
   "execution_count": null,
   "id": "3282c7b3-1a7c-476b-876a-3f3dfe79125b",
   "metadata": {},
   "outputs": [],
   "source": [
    "import numpy as np\n"
   ]
  },
  {
   "cell_type": "code",
   "execution_count": null,
   "id": "6c4299e0-f6b6-429e-916a-cb0b0801d3f7",
   "metadata": {},
   "outputs": [],
   "source": []
  }
 ],
 "metadata": {
  "kernelspec": {
   "display_name": "Python 3 (ipykernel)",
   "language": "python",
   "name": "python3"
  },
  "language_info": {
   "codemirror_mode": {
    "name": "ipython",
    "version": 3
   },
   "file_extension": ".py",
   "mimetype": "text/x-python",
   "name": "python",
   "nbconvert_exporter": "python",
   "pygments_lexer": "ipython3",
   "version": "3.8.18"
  }
 },
 "nbformat": 4,
 "nbformat_minor": 5
}
