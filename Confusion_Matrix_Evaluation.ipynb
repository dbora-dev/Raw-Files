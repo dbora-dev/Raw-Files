{
 "cells": [
  {
   "cell_type": "code",
   "execution_count": 25,
   "id": "17aecb80-29a7-44fa-97ee-16dfccacd61c",
   "metadata": {},
   "outputs": [
    {
     "name": "stdout",
     "output_type": "stream",
     "text": [
      "17632\n"
     ]
    }
   ],
   "source": [
    "TN = cm[0,0]  # True Negatives\n",
    "print(TN)"
   ]
  },
  {
   "cell_type": "code",
   "execution_count": 26,
   "id": "66ef6b62-92b5-46ac-8ee2-499bdd6b1c5e",
   "metadata": {},
   "outputs": [
    {
     "name": "stdout",
     "output_type": "stream",
     "text": [
      "206\n"
     ]
    }
   ],
   "source": [
    "TP = cm[1,1] # True positive\n",
    "print(TP)"
   ]
  },
  {
   "cell_type": "code",
   "execution_count": 27,
   "id": "be087747-f077-448c-99f6-089e2fa95c74",
   "metadata": {},
   "outputs": [
    {
     "name": "stdout",
     "output_type": "stream",
     "text": [
      "66\n"
     ]
    }
   ],
   "source": [
    "FP = cm[0,1] # False positive\n",
    "print(FP)"
   ]
  },
  {
   "cell_type": "code",
   "execution_count": 29,
   "id": "238f979e-844a-4923-b6fa-f2d4b25ca730",
   "metadata": {},
   "outputs": [
    {
     "name": "stdout",
     "output_type": "stream",
     "text": [
      "96\n"
     ]
    }
   ],
   "source": [
    "FN = cm[1,0] # False Negatives\n",
    "print(FN)"
   ]
  },
  {
   "cell_type": "markdown",
   "id": "010465d3-0077-4f96-8024-0e0a1565ba42",
   "metadata": {},
   "source": [
    "### 9. Sensitivity = TP/(TP + FN)"
   ]
  },
  {
   "cell_type": "code",
   "execution_count": 30,
   "id": "b126d2d9-837a-49be-abe5-f117aeca53bf",
   "metadata": {},
   "outputs": [
    {
     "name": "stdout",
     "output_type": "stream",
     "text": [
      "0.6821192052980133\n"
     ]
    }
   ],
   "source": [
    "sensitivity = TP/(TP+FN)\n",
    "print(sensitivity)"
   ]
  },
  {
   "cell_type": "markdown",
   "id": "176a0f54-0b5b-41f3-996c-e8f50ec75c41",
   "metadata": {},
   "source": []
  },
  {
   "cell_type": "code",
   "execution_count": null,
   "id": "e297b48d-6111-4bda-b33e-beffa6d931d7",
   "metadata": {},
   "outputs": [],
   "source": [
    "### 10. Specificity : TN/(TN + FP)"
   ]
  }
 ],
 "metadata": {
  "kernelspec": {
   "display_name": "Python 3 (ipykernel)",
   "language": "python",
   "name": "python3"
  },
  "language_info": {
   "codemirror_mode": {
    "name": "ipython",
    "version": 3
   },
   "file_extension": ".py",
   "mimetype": "text/x-python",
   "name": "python",
   "nbconvert_exporter": "python",
   "pygments_lexer": "ipython3",
   "version": "3.11.5"
  }
 },
 "nbformat": 4,
 "nbformat_minor": 5
}
