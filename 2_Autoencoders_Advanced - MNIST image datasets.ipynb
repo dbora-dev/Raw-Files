{
 "cells": [
  {
   "cell_type": "code",
   "execution_count": 1,
   "id": "7c1c9360",
   "metadata": {},
   "outputs": [],
   "source": [
    "import numpy as np\n",
    "import tensorflow as tf\n",
    "from tensorflow import keras\n",
    "import matplotlib.pyplot as plt\n",
    "import tensorflow_datasets as tf_ds\n",
    "import tensorflow_core"
   ]
  },
  {
   "cell_type": "code",
   "execution_count": 2,
   "id": "7f822ee6",
   "metadata": {},
   "outputs": [],
   "source": [
    "# Prepare the datasets :"
   ]
  },
  {
   "cell_type": "code",
   "execution_count": 3,
   "id": "02adcede",
   "metadata": {},
   "outputs": [],
   "source": [
    "def map_image(image,label):\n",
    "    image = tf.cast(image,dtype=tf.float32)\n",
    "    image = image/255.0\n",
    "    image = tf.reshape(image,shape=(28*28*1,))\n",
    "    return image, image\n",
    "    \n",
    "\n"
   ]
  },
  {
   "cell_type": "code",
   "execution_count": 4,
   "id": "4440005d",
   "metadata": {},
   "outputs": [],
   "source": [
    "# Load the Train and Test datasets from Tensorflow datasets :"
   ]
  },
  {
   "cell_type": "code",
   "execution_count": 5,
   "id": "b16c0d92",
   "metadata": {},
   "outputs": [],
   "source": [
    "BATCH_SIZE = 128\n",
    "SHUFFLE_BUFFER_SIZE = 1024"
   ]
  },
  {
   "cell_type": "code",
   "execution_count": 6,
   "id": "f6b1efb2",
   "metadata": {},
   "outputs": [
    {
     "name": "stderr",
     "output_type": "stream",
     "text": [
      "WARNING:absl:Warning: Setting shuffle_files=True because split=TRAIN and shuffle_files=None. This behavior will be deprecated on 2019-08-06, at which point shuffle_files=False will be the default for all splits.\n"
     ]
    },
    {
     "name": "stdout",
     "output_type": "stream",
     "text": [
      "WARNING:tensorflow:AutoGraph could not transform <bound method TopLevelFeature.decode_example of FeaturesDict({\n",
      "    'image': Image(shape=(28, 28, 1), dtype=tf.uint8),\n",
      "    'label': ClassLabel(shape=(), dtype=tf.int64, num_classes=10),\n",
      "})> and will run it as-is.\n",
      "Please report this to the TensorFlow team. When filing the bug, set the verbosity to 10 (on Linux, `export AUTOGRAPH_VERBOSITY=10`) and attach the full output.\n",
      "Cause: No module named 'tensorflow_core.estimator'\n"
     ]
    },
    {
     "name": "stderr",
     "output_type": "stream",
     "text": [
      "WARNING:tensorflow:AutoGraph could not transform <bound method TopLevelFeature.decode_example of FeaturesDict({\n",
      "    'image': Image(shape=(28, 28, 1), dtype=tf.uint8),\n",
      "    'label': ClassLabel(shape=(), dtype=tf.int64, num_classes=10),\n",
      "})> and will run it as-is.\n",
      "Please report this to the TensorFlow team. When filing the bug, set the verbosity to 10 (on Linux, `export AUTOGRAPH_VERBOSITY=10`) and attach the full output.\n",
      "Cause: No module named 'tensorflow_core.estimator'\n"
     ]
    },
    {
     "name": "stdout",
     "output_type": "stream",
     "text": [
      "WARNING: AutoGraph could not transform <bound method TopLevelFeature.decode_example of FeaturesDict({\n",
      "    'image': Image(shape=(28, 28, 1), dtype=tf.uint8),\n",
      "    'label': ClassLabel(shape=(), dtype=tf.int64, num_classes=10),\n",
      "})> and will run it as-is.\n",
      "Please report this to the TensorFlow team. When filing the bug, set the verbosity to 10 (on Linux, `export AUTOGRAPH_VERBOSITY=10`) and attach the full output.\n",
      "Cause: No module named 'tensorflow_core.estimator'\n",
      "WARNING:tensorflow:AutoGraph could not transform <function map_image at 0x000002E2D00B3D08> and will run it as-is.\n",
      "Please report this to the TensorFlow team. When filing the bug, set the verbosity to 10 (on Linux, `export AUTOGRAPH_VERBOSITY=10`) and attach the full output.\n",
      "Cause: No module named 'tensorflow_core.estimator'\n"
     ]
    },
    {
     "name": "stderr",
     "output_type": "stream",
     "text": [
      "WARNING:tensorflow:AutoGraph could not transform <function map_image at 0x000002E2D00B3D08> and will run it as-is.\n",
      "Please report this to the TensorFlow team. When filing the bug, set the verbosity to 10 (on Linux, `export AUTOGRAPH_VERBOSITY=10`) and attach the full output.\n",
      "Cause: No module named 'tensorflow_core.estimator'\n"
     ]
    },
    {
     "name": "stdout",
     "output_type": "stream",
     "text": [
      "WARNING: AutoGraph could not transform <function map_image at 0x000002E2D00B3D08> and will run it as-is.\n",
      "Please report this to the TensorFlow team. When filing the bug, set the verbosity to 10 (on Linux, `export AUTOGRAPH_VERBOSITY=10`) and attach the full output.\n",
      "Cause: No module named 'tensorflow_core.estimator'\n"
     ]
    }
   ],
   "source": [
    "train_datasets = tf_ds.load(\"mnist\",as_supervised=True,split='train')\n",
    "train_datasets = train_datasets.map(map_image)\n",
    "train_datasets = train_datasets.shuffle(SHUFFLE_BUFFER_SIZE).batch(BATCH_SIZE).repeat()"
   ]
  },
  {
   "cell_type": "code",
   "execution_count": 7,
   "id": "e93315cb",
   "metadata": {},
   "outputs": [
    {
     "name": "stdout",
     "output_type": "stream",
     "text": [
      "WARNING:tensorflow:AutoGraph could not transform <bound method TopLevelFeature.decode_example of FeaturesDict({\n",
      "    'image': Image(shape=(28, 28, 1), dtype=tf.uint8),\n",
      "    'label': ClassLabel(shape=(), dtype=tf.int64, num_classes=10),\n",
      "})> and will run it as-is.\n",
      "Please report this to the TensorFlow team. When filing the bug, set the verbosity to 10 (on Linux, `export AUTOGRAPH_VERBOSITY=10`) and attach the full output.\n",
      "Cause: No module named 'tensorflow_core.estimator'\n"
     ]
    },
    {
     "name": "stderr",
     "output_type": "stream",
     "text": [
      "WARNING:tensorflow:AutoGraph could not transform <bound method TopLevelFeature.decode_example of FeaturesDict({\n",
      "    'image': Image(shape=(28, 28, 1), dtype=tf.uint8),\n",
      "    'label': ClassLabel(shape=(), dtype=tf.int64, num_classes=10),\n",
      "})> and will run it as-is.\n",
      "Please report this to the TensorFlow team. When filing the bug, set the verbosity to 10 (on Linux, `export AUTOGRAPH_VERBOSITY=10`) and attach the full output.\n",
      "Cause: No module named 'tensorflow_core.estimator'\n"
     ]
    },
    {
     "name": "stdout",
     "output_type": "stream",
     "text": [
      "WARNING: AutoGraph could not transform <bound method TopLevelFeature.decode_example of FeaturesDict({\n",
      "    'image': Image(shape=(28, 28, 1), dtype=tf.uint8),\n",
      "    'label': ClassLabel(shape=(), dtype=tf.int64, num_classes=10),\n",
      "})> and will run it as-is.\n",
      "Please report this to the TensorFlow team. When filing the bug, set the verbosity to 10 (on Linux, `export AUTOGRAPH_VERBOSITY=10`) and attach the full output.\n",
      "Cause: No module named 'tensorflow_core.estimator'\n"
     ]
    }
   ],
   "source": [
    "test_dataset = tf_ds.load(\"mnist\",as_supervised=True,split='test')\n",
    "test_dataset = test_dataset.map(map_image)\n",
    "test_dataset = test_dataset.batch(BATCH_SIZE).repeat()"
   ]
  },
  {
   "cell_type": "code",
   "execution_count": 8,
   "id": "9b2b62f8",
   "metadata": {},
   "outputs": [],
   "source": [
    "# Build the Model : "
   ]
  },
  {
   "cell_type": "code",
   "execution_count": 9,
   "id": "6f8bc015",
   "metadata": {},
   "outputs": [],
   "source": [
    "def simple_autoencoder(inputs):\n",
    "    # Build Encoder-Decoder using Dense Model \n",
    "    encoder = keras.layers.Dense(units=32, activation='relu')(inputs)\n",
    "    decoder = keras.layers.Dense(units=28*28*1,activation='sigmoid')(encoder)\n",
    "    return encoder, decoder\n",
    "    "
   ]
  },
  {
   "cell_type": "code",
   "execution_count": 10,
   "id": "11e2791c",
   "metadata": {},
   "outputs": [],
   "source": [
    "# Sets the input shape :\n",
    "input_ = tf.keras.Input(shape=(28*28*1,))"
   ]
  },
  {
   "cell_type": "code",
   "execution_count": 11,
   "id": "07f6a057",
   "metadata": {},
   "outputs": [],
   "source": [
    "# Get encoder & Decoder output :"
   ]
  },
  {
   "cell_type": "code",
   "execution_count": 12,
   "id": "d47123af",
   "metadata": {},
   "outputs": [],
   "source": [
    "encoder_output, decoder_output = simple_autoencoder(input_)"
   ]
  },
  {
   "cell_type": "code",
   "execution_count": 13,
   "id": "5cfea50a",
   "metadata": {},
   "outputs": [],
   "source": [
    "encoder_model = tf.keras.Model(inputs=input_,outputs=encoder_output)"
   ]
  },
  {
   "cell_type": "code",
   "execution_count": 14,
   "id": "55c84865",
   "metadata": {},
   "outputs": [],
   "source": [
    "autoencoder_model = tf.keras.Model(inputs=input_,outputs=decoder_output)"
   ]
  },
  {
   "cell_type": "code",
   "execution_count": 15,
   "id": "39c0e734",
   "metadata": {},
   "outputs": [],
   "source": [
    "# Compile the Model :"
   ]
  },
  {
   "cell_type": "code",
   "execution_count": 16,
   "id": "98cb9507",
   "metadata": {},
   "outputs": [],
   "source": [
    "autoencoder_model.compile(optimizer=tf.keras.optimizers.Adam(),loss='binary_crossentropy')"
   ]
  },
  {
   "cell_type": "code",
   "execution_count": 17,
   "id": "7582bf50",
   "metadata": {},
   "outputs": [],
   "source": [
    "# Fit the encoder model :"
   ]
  },
  {
   "cell_type": "code",
   "execution_count": 18,
   "id": "08c9674a",
   "metadata": {},
   "outputs": [
    {
     "name": "stdout",
     "output_type": "stream",
     "text": [
      "Train for 1000 steps\n",
      "Epoch 1/50\n",
      "1000/1000 [==============================] - 15s 15ms/step - loss: 0.1825\n",
      "Epoch 2/50\n",
      "1000/1000 [==============================] - 14s 14ms/step - loss: 0.1120\n",
      "Epoch 3/50\n",
      "1000/1000 [==============================] - 13s 13ms/step - loss: 0.0990\n",
      "Epoch 4/50\n",
      "1000/1000 [==============================] - 16s 16ms/step - loss: 0.0953\n",
      "Epoch 5/50\n",
      "1000/1000 [==============================] - 12s 12ms/step - loss: 0.0943\n",
      "Epoch 6/50\n",
      "1000/1000 [==============================] - 10s 10ms/step - loss: 0.0938\n",
      "Epoch 7/50\n",
      "1000/1000 [==============================] - 10s 10ms/step - loss: 0.0935\n",
      "Epoch 8/50\n",
      "1000/1000 [==============================] - 12s 12ms/step - loss: 0.0933\n",
      "Epoch 9/50\n",
      "1000/1000 [==============================] - 11s 11ms/step - loss: 0.0933\n",
      "Epoch 10/50\n",
      "1000/1000 [==============================] - 10s 10ms/step - loss: 0.0932\n",
      "Epoch 11/50\n",
      "1000/1000 [==============================] - 10s 10ms/step - loss: 0.0931\n",
      "Epoch 12/50\n",
      "1000/1000 [==============================] - 10s 10ms/step - loss: 0.0931\n",
      "Epoch 13/50\n",
      "1000/1000 [==============================] - 10s 10ms/step - loss: 0.0930\n",
      "Epoch 14/50\n",
      "1000/1000 [==============================] - 9s 9ms/step - loss: 0.0930\n",
      "Epoch 15/50\n",
      "1000/1000 [==============================] - 10s 10ms/step - loss: 0.0929\n",
      "Epoch 16/50\n",
      "1000/1000 [==============================] - 10s 10ms/step - loss: 0.0929\n",
      "Epoch 17/50\n",
      "1000/1000 [==============================] - 10s 10ms/step - loss: 0.0928\n",
      "Epoch 18/50\n",
      "1000/1000 [==============================] - 10s 10ms/step - loss: 0.0928\n",
      "Epoch 19/50\n",
      "1000/1000 [==============================] - 10s 10ms/step - loss: 0.0928\n",
      "Epoch 20/50\n",
      "1000/1000 [==============================] - 10s 10ms/step - loss: 0.0928\n",
      "Epoch 21/50\n",
      "1000/1000 [==============================] - 10s 10ms/step - loss: 0.0927\n",
      "Epoch 22/50\n",
      "1000/1000 [==============================] - 10s 10ms/step - loss: 0.0927\n",
      "Epoch 23/50\n",
      "1000/1000 [==============================] - 11s 11ms/step - loss: 0.0926\n",
      "Epoch 24/50\n",
      "1000/1000 [==============================] - 10s 10ms/step - loss: 0.0927\n",
      "Epoch 25/50\n",
      "1000/1000 [==============================] - 10s 10ms/step - loss: 0.0926\n",
      "Epoch 26/50\n",
      "1000/1000 [==============================] - 11s 11ms/step - loss: 0.0926\n",
      "Epoch 27/50\n",
      "1000/1000 [==============================] - 11s 11ms/step - loss: 0.0926\n",
      "Epoch 28/50\n",
      "1000/1000 [==============================] - 11s 11ms/step - loss: 0.0925\n",
      "Epoch 29/50\n",
      "1000/1000 [==============================] - 11s 11ms/step - loss: 0.0925\n",
      "Epoch 30/50\n",
      "1000/1000 [==============================] - 11s 11ms/step - loss: 0.0925\n",
      "Epoch 31/50\n",
      "1000/1000 [==============================] - 11s 11ms/step - loss: 0.0924\n",
      "Epoch 32/50\n",
      "1000/1000 [==============================] - 11s 11ms/step - loss: 0.0924\n",
      "Epoch 33/50\n",
      "1000/1000 [==============================] - 12s 12ms/step - loss: 0.0924\n",
      "Epoch 34/50\n",
      "1000/1000 [==============================] - 12s 12ms/step - loss: 0.0924\n",
      "Epoch 35/50\n",
      "1000/1000 [==============================] - 12s 12ms/step - loss: 0.0924\n",
      "Epoch 36/50\n",
      "1000/1000 [==============================] - 11s 11ms/step - loss: 0.0923 0s - \n",
      "Epoch 37/50\n",
      "1000/1000 [==============================] - 12s 12ms/step - loss: 0.0923\n",
      "Epoch 38/50\n",
      "1000/1000 [==============================] - 12s 12ms/step - loss: 0.0923\n",
      "Epoch 39/50\n",
      "1000/1000 [==============================] - 12s 12ms/step - loss: 0.0923\n",
      "Epoch 40/50\n",
      "1000/1000 [==============================] - 12s 12ms/step - loss: 0.0923\n",
      "Epoch 41/50\n",
      "1000/1000 [==============================] - 12s 12ms/step - loss: 0.0922\n",
      "Epoch 42/50\n",
      "1000/1000 [==============================] - 13s 13ms/step - loss: 0.0922\n",
      "Epoch 43/50\n",
      "1000/1000 [==============================] - 13s 13ms/step - loss: 0.0922\n",
      "Epoch 44/50\n",
      "1000/1000 [==============================] - 13s 13ms/step - loss: 0.0922\n",
      "Epoch 45/50\n",
      "1000/1000 [==============================] - 13s 13ms/step - loss: 0.0922\n",
      "Epoch 46/50\n",
      "1000/1000 [==============================] - 13s 13ms/step - loss: 0.0922\n",
      "Epoch 47/50\n",
      "1000/1000 [==============================] - 14s 14ms/step - loss: 0.0921\n",
      "Epoch 48/50\n",
      "1000/1000 [==============================] - 14s 14ms/step - loss: 0.0921\n",
      "Epoch 49/50\n",
      "1000/1000 [==============================] - 14s 14ms/step - loss: 0.0921\n",
      "Epoch 50/50\n",
      "1000/1000 [==============================] - 15s 15ms/step - loss: 0.0922\n"
     ]
    }
   ],
   "source": [
    "train_steps = 1000\n",
    "simple_auto_history = autoencoder_model.fit(train_datasets,steps_per_epoch=train_steps,epochs=50)"
   ]
  },
  {
   "cell_type": "code",
   "execution_count": 19,
   "id": "1fbdb5db",
   "metadata": {},
   "outputs": [
    {
     "data": {
      "text/plain": [
       "{'loss': [0.18248987193403393,\n",
       "  0.11197136535592053,\n",
       "  0.09897871420585018,\n",
       "  0.09531158739966474,\n",
       "  0.09427695806926045,\n",
       "  0.09376523009743197,\n",
       "  0.09353549985318496,\n",
       "  0.09334081692459406,\n",
       "  0.09326536697393778,\n",
       "  0.09317054352413243,\n",
       "  0.0930849613119597,\n",
       "  0.0930778491140724,\n",
       "  0.09301137297287054,\n",
       "  0.09298653550457214,\n",
       "  0.09291509049886343,\n",
       "  0.09287947305022164,\n",
       "  0.09283233477196853,\n",
       "  0.0927949514167347,\n",
       "  0.0927746229194265,\n",
       "  0.09279241710863989,\n",
       "  0.09272642337855487,\n",
       "  0.09271116967146667,\n",
       "  0.09262550754571873,\n",
       "  0.0926611544513118,\n",
       "  0.09258911193997459,\n",
       "  0.09257147444776441,\n",
       "  0.09256474748850167,\n",
       "  0.0925427976773941,\n",
       "  0.09251540426673623,\n",
       "  0.09248340166192046,\n",
       "  0.09244457554572637,\n",
       "  0.09240099917789768,\n",
       "  0.09238948976027482,\n",
       "  0.09238358925452168,\n",
       "  0.09238780625332231,\n",
       "  0.09234401741889252,\n",
       "  0.09233181286843614,\n",
       "  0.09229348735240271,\n",
       "  0.09229167734178202,\n",
       "  0.09226085738339025,\n",
       "  0.09221387971910075,\n",
       "  0.09223485333083749,\n",
       "  0.09224468857057397,\n",
       "  0.09221531861667158,\n",
       "  0.09219060886116431,\n",
       "  0.09215262175642731,\n",
       "  0.09214826624629914,\n",
       "  0.09212475602122293,\n",
       "  0.09211301485476284,\n",
       "  0.09215442044637154]}"
      ]
     },
     "execution_count": 19,
     "metadata": {},
     "output_type": "execute_result"
    }
   ],
   "source": [
    "simple_auto_history.history"
   ]
  },
  {
   "cell_type": "markdown",
   "id": "d20ba24a",
   "metadata": {},
   "source": [
    "### Display sample Results :"
   ]
  },
  {
   "cell_type": "code",
   "execution_count": 20,
   "id": "f91aa989",
   "metadata": {},
   "outputs": [],
   "source": [
    "def display_one_row(display_img,offset,shape=(28,28)):\n",
    "    for i,test_img in enumerate(display_img):\n",
    "        plt.subplot(3,10,offset + i+ 1)\n",
    "        plt.xticks([])\n",
    "        plt.yticks([])\n",
    "        test_img = np.reshape(test_img,shape)\n",
    "        plt.imshow(test_img,cmap='gray')"
   ]
  },
  {
   "cell_type": "code",
   "execution_count": 29,
   "id": "51c659a0",
   "metadata": {},
   "outputs": [
    {
     "name": "stdout",
     "output_type": "stream",
     "text": [
      "ERROR! Session/line number was not unique in database. History logging moved to new session 641\n"
     ]
    }
   ],
   "source": [
    "def display_result(input_img,encoded_img,decoded_img,encoded_shape=(8,4)):\n",
    "    plt.figure(figsize=(15,5))\n",
    "    display_one_row(input_img,0,shape=(28,28,))\n",
    "    display_one_row(encoded_img,1,shape=encoded_shape)\n",
    "    display_one_row(decoded_img,shape=(28,28))\n",
    "    "
   ]
  },
  {
   "cell_type": "markdown",
   "id": "780abfac",
   "metadata": {},
   "source": [
    "### Test datasets : Take 1 Batch of Image :"
   ]
  },
  {
   "cell_type": "code",
   "execution_count": 30,
   "id": "5661048f",
   "metadata": {},
   "outputs": [],
   "source": [
    "test_dataset = test_dataset.take(1)\n"
   ]
  },
  {
   "cell_type": "code",
   "execution_count": 31,
   "id": "4d33b946",
   "metadata": {},
   "outputs": [],
   "source": [
    "# Take the input image from test data of Tensorflow datasets (mnist) & Enter them into list :\n"
   ]
  },
  {
   "cell_type": "code",
   "execution_count": 32,
   "id": "60eefa72",
   "metadata": {},
   "outputs": [],
   "source": [
    "output_smaples = []\n"
   ]
  },
  {
   "cell_type": "code",
   "execution_count": 33,
   "id": "cfdd1b74",
   "metadata": {},
   "outputs": [],
   "source": [
    "for input_image, image in tf_ds.as_numpy(test_dataset):\n",
    "    output_smaples = input_image"
   ]
  },
  {
   "cell_type": "code",
   "execution_count": 34,
   "id": "37bef939",
   "metadata": {},
   "outputs": [],
   "source": [
    "encoded_prediction = encoder_model.predict(test_dataset)"
   ]
  },
  {
   "cell_type": "code",
   "execution_count": 39,
   "id": "b92f1d4e",
   "metadata": {},
   "outputs": [
    {
     "name": "stdout",
     "output_type": "stream",
     "text": [
      "ERROR! Session/line number was not unique in database. History logging moved to new session 643\n"
     ]
    }
   ],
   "source": [
    "idxs = np.random.choice(56, size=10)"
   ]
  },
  {
   "cell_type": "code",
   "execution_count": 40,
   "id": "45de5866",
   "metadata": {},
   "outputs": [],
   "source": [
    "final_prediction_decoder = autoencoder_model.predict(test_dataset)"
   ]
  },
  {
   "cell_type": "code",
   "execution_count": null,
   "id": "eda0a600",
   "metadata": {},
   "outputs": [
    {
     "name": "stderr",
     "output_type": "stream",
     "text": [
      "D:\\SOFTWARE\\Anaconda\\envs\\gpu_tf\\lib\\site-packages\\ipykernel_launcher.py:3: MatplotlibDeprecationWarning: Adding an axes using the same arguments as a previous axes currently reuses the earlier instance.  In a future version, a new instance will always be created and returned.  Meanwhile, this warning can be suppressed, and the future behavior ensured, by passing a unique label to each axes instance.\n",
      "  This is separate from the ipykernel package so we can avoid doing imports until\n",
      "ERROR:root:Internal Python error in the inspect module.\n",
      "Below is the traceback from this internal error.\n",
      "\n",
      "ERROR:root:Internal Python error in the inspect module.\n",
      "Below is the traceback from this internal error.\n",
      "\n",
      "ERROR:root:Internal Python error in the inspect module.\n",
      "Below is the traceback from this internal error.\n",
      "\n"
     ]
    },
    {
     "name": "stdout",
     "output_type": "stream",
     "text": [
      "Traceback (most recent call last):\n",
      "  File \"D:\\SOFTWARE\\Anaconda\\envs\\gpu_tf\\lib\\site-packages\\IPython\\core\\interactiveshell.py\", line 3343, in run_code\n",
      "    exec(code_obj, self.user_global_ns, self.user_ns)\n",
      "  File \"<ipython-input-41-2ff5aff7bdcc>\", line 1, in <module>\n",
      "    display_result(output_smaples[idxs],encoded_prediction[idxs],final_prediction_decoder[idxs])\n",
      "  File \"<ipython-input-29-472f4dff2a62>\", line 5, in display_result\n",
      "    display_one_row(decoded_img,shape=(28,28))\n",
      "TypeError: display_one_row() missing 1 required positional argument: 'offset'\n",
      "\n",
      "During handling of the above exception, another exception occurred:\n",
      "\n",
      "Traceback (most recent call last):\n",
      "  File \"D:\\SOFTWARE\\Anaconda\\envs\\gpu_tf\\lib\\site-packages\\IPython\\core\\interactiveshell.py\", line 2044, in showtraceback\n",
      "    stb = value._render_traceback_()\n",
      "AttributeError: 'TypeError' object has no attribute '_render_traceback_'\n",
      "\n",
      "During handling of the above exception, another exception occurred:\n",
      "\n",
      "Traceback (most recent call last):\n",
      "  File \"D:\\SOFTWARE\\Anaconda\\envs\\gpu_tf\\lib\\site-packages\\IPython\\core\\ultratb.py\", line 1169, in get_records\n",
      "    return _fixed_getinnerframes(etb, number_of_lines_of_context, tb_offset)\n",
      "  File \"D:\\SOFTWARE\\Anaconda\\envs\\gpu_tf\\lib\\site-packages\\IPython\\core\\ultratb.py\", line 316, in wrapped\n",
      "    return f(*args, **kwargs)\n",
      "  File \"D:\\SOFTWARE\\Anaconda\\envs\\gpu_tf\\lib\\site-packages\\IPython\\core\\ultratb.py\", line 350, in _fixed_getinnerframes\n",
      "    records = fix_frame_records_filenames(inspect.getinnerframes(etb, context))\n",
      "  File \"D:\\SOFTWARE\\Anaconda\\envs\\gpu_tf\\lib\\inspect.py\", line 1490, in getinnerframes\n",
      "    frameinfo = (tb.tb_frame,) + getframeinfo(tb, context)\n",
      "  File \"D:\\SOFTWARE\\Anaconda\\envs\\gpu_tf\\lib\\inspect.py\", line 1448, in getframeinfo\n",
      "    filename = getsourcefile(frame) or getfile(frame)\n",
      "  File \"D:\\SOFTWARE\\Anaconda\\envs\\gpu_tf\\lib\\inspect.py\", line 696, in getsourcefile\n",
      "    if getattr(getmodule(object, filename), '__loader__', None) is not None:\n",
      "  File \"D:\\SOFTWARE\\Anaconda\\envs\\gpu_tf\\lib\\inspect.py\", line 733, in getmodule\n",
      "    if ismodule(module) and hasattr(module, '__file__'):\n",
      "  File \"D:\\SOFTWARE\\Anaconda\\envs\\gpu_tf\\lib\\site-packages\\tensorflow\\__init__.py\", line 50, in __getattr__\n",
      "    module = self._load()\n",
      "  File \"D:\\SOFTWARE\\Anaconda\\envs\\gpu_tf\\lib\\site-packages\\tensorflow\\__init__.py\", line 44, in _load\n",
      "    module = _importlib.import_module(self.__name__)\n",
      "  File \"D:\\SOFTWARE\\Anaconda\\envs\\gpu_tf\\lib\\importlib\\__init__.py\", line 126, in import_module\n",
      "    return _bootstrap._gcd_import(name[level:], package, level)\n",
      "  File \"<frozen importlib._bootstrap>\", line 994, in _gcd_import\n",
      "  File \"<frozen importlib._bootstrap>\", line 971, in _find_and_load\n",
      "  File \"<frozen importlib._bootstrap>\", line 953, in _find_and_load_unlocked\n",
      "ModuleNotFoundError: No module named 'tensorflow_core.estimator'\n",
      "Traceback (most recent call last):\n",
      "  File \"D:\\SOFTWARE\\Anaconda\\envs\\gpu_tf\\lib\\site-packages\\IPython\\core\\interactiveshell.py\", line 3343, in run_code\n",
      "    exec(code_obj, self.user_global_ns, self.user_ns)\n",
      "  File \"<ipython-input-41-2ff5aff7bdcc>\", line 1, in <module>\n",
      "    display_result(output_smaples[idxs],encoded_prediction[idxs],final_prediction_decoder[idxs])\n",
      "  File \"<ipython-input-29-472f4dff2a62>\", line 5, in display_result\n",
      "    display_one_row(decoded_img,shape=(28,28))\n",
      "TypeError: display_one_row() missing 1 required positional argument: 'offset'\n",
      "\n",
      "During handling of the above exception, another exception occurred:\n",
      "\n",
      "Traceback (most recent call last):\n",
      "  File \"D:\\SOFTWARE\\Anaconda\\envs\\gpu_tf\\lib\\site-packages\\IPython\\core\\interactiveshell.py\", line 2044, in showtraceback\n",
      "    stb = value._render_traceback_()\n",
      "AttributeError: 'TypeError' object has no attribute '_render_traceback_'\n",
      "\n",
      "During handling of the above exception, another exception occurred:\n",
      "\n",
      "Traceback (most recent call last):\n",
      "  File \"D:\\SOFTWARE\\Anaconda\\envs\\gpu_tf\\lib\\site-packages\\IPython\\core\\interactiveshell.py\", line 3263, in run_ast_nodes\n",
      "    if (await self.run_code(code, result,  async_=asy)):\n",
      "  File \"D:\\SOFTWARE\\Anaconda\\envs\\gpu_tf\\lib\\site-packages\\IPython\\core\\interactiveshell.py\", line 3360, in run_code\n",
      "    self.showtraceback(running_compiled_code=True)\n",
      "  File \"D:\\SOFTWARE\\Anaconda\\envs\\gpu_tf\\lib\\site-packages\\IPython\\core\\interactiveshell.py\", line 2047, in showtraceback\n",
      "    value, tb, tb_offset=tb_offset)\n",
      "  File \"D:\\SOFTWARE\\Anaconda\\envs\\gpu_tf\\lib\\site-packages\\IPython\\core\\ultratb.py\", line 1436, in structured_traceback\n",
      "    self, etype, value, tb, tb_offset, number_of_lines_of_context)\n",
      "  File \"D:\\SOFTWARE\\Anaconda\\envs\\gpu_tf\\lib\\site-packages\\IPython\\core\\ultratb.py\", line 1336, in structured_traceback\n",
      "    self, etype, value, tb, tb_offset, number_of_lines_of_context\n",
      "  File \"D:\\SOFTWARE\\Anaconda\\envs\\gpu_tf\\lib\\site-packages\\IPython\\core\\ultratb.py\", line 1193, in structured_traceback\n",
      "    tb_offset)\n",
      "  File \"D:\\SOFTWARE\\Anaconda\\envs\\gpu_tf\\lib\\site-packages\\IPython\\core\\ultratb.py\", line 1150, in format_exception_as_a_whole\n",
      "    last_unique, recursion_repeat = find_recursion(orig_etype, evalue, records)\n",
      "  File \"D:\\SOFTWARE\\Anaconda\\envs\\gpu_tf\\lib\\site-packages\\IPython\\core\\ultratb.py\", line 451, in find_recursion\n",
      "    return len(records), 0\n",
      "TypeError: object of type 'NoneType' has no len()\n",
      "\n",
      "During handling of the above exception, another exception occurred:\n",
      "\n",
      "Traceback (most recent call last):\n",
      "  File \"D:\\SOFTWARE\\Anaconda\\envs\\gpu_tf\\lib\\site-packages\\IPython\\core\\interactiveshell.py\", line 2044, in showtraceback\n",
      "    stb = value._render_traceback_()\n",
      "AttributeError: 'TypeError' object has no attribute '_render_traceback_'\n",
      "\n",
      "During handling of the above exception, another exception occurred:\n",
      "\n",
      "Traceback (most recent call last):\n",
      "  File \"D:\\SOFTWARE\\Anaconda\\envs\\gpu_tf\\lib\\site-packages\\IPython\\core\\ultratb.py\", line 1169, in get_records\n",
      "    return _fixed_getinnerframes(etb, number_of_lines_of_context, tb_offset)\n",
      "  File \"D:\\SOFTWARE\\Anaconda\\envs\\gpu_tf\\lib\\site-packages\\IPython\\core\\ultratb.py\", line 316, in wrapped\n",
      "    return f(*args, **kwargs)\n",
      "  File \"D:\\SOFTWARE\\Anaconda\\envs\\gpu_tf\\lib\\site-packages\\IPython\\core\\ultratb.py\", line 350, in _fixed_getinnerframes\n",
      "    records = fix_frame_records_filenames(inspect.getinnerframes(etb, context))\n",
      "  File \"D:\\SOFTWARE\\Anaconda\\envs\\gpu_tf\\lib\\inspect.py\", line 1490, in getinnerframes\n",
      "    frameinfo = (tb.tb_frame,) + getframeinfo(tb, context)\n",
      "  File \"D:\\SOFTWARE\\Anaconda\\envs\\gpu_tf\\lib\\inspect.py\", line 1448, in getframeinfo\n",
      "    filename = getsourcefile(frame) or getfile(frame)\n",
      "  File \"D:\\SOFTWARE\\Anaconda\\envs\\gpu_tf\\lib\\inspect.py\", line 696, in getsourcefile\n",
      "    if getattr(getmodule(object, filename), '__loader__', None) is not None:\n",
      "  File \"D:\\SOFTWARE\\Anaconda\\envs\\gpu_tf\\lib\\inspect.py\", line 733, in getmodule\n",
      "    if ismodule(module) and hasattr(module, '__file__'):\n",
      "  File \"D:\\SOFTWARE\\Anaconda\\envs\\gpu_tf\\lib\\site-packages\\tensorflow\\__init__.py\", line 50, in __getattr__\n",
      "    module = self._load()\n",
      "  File \"D:\\SOFTWARE\\Anaconda\\envs\\gpu_tf\\lib\\site-packages\\tensorflow\\__init__.py\", line 44, in _load\n",
      "    module = _importlib.import_module(self.__name__)\n",
      "  File \"D:\\SOFTWARE\\Anaconda\\envs\\gpu_tf\\lib\\importlib\\__init__.py\", line 126, in import_module\n",
      "    return _bootstrap._gcd_import(name[level:], package, level)\n",
      "  File \"<frozen importlib._bootstrap>\", line 994, in _gcd_import\n",
      "  File \"<frozen importlib._bootstrap>\", line 971, in _find_and_load\n",
      "  File \"<frozen importlib._bootstrap>\", line 953, in _find_and_load_unlocked\n",
      "ModuleNotFoundError: No module named 'tensorflow_core.estimator'\n",
      "Traceback (most recent call last):\n",
      "  File \"D:\\SOFTWARE\\Anaconda\\envs\\gpu_tf\\lib\\site-packages\\IPython\\core\\interactiveshell.py\", line 3343, in run_code\n",
      "    exec(code_obj, self.user_global_ns, self.user_ns)\n",
      "  File \"<ipython-input-41-2ff5aff7bdcc>\", line 1, in <module>\n",
      "    display_result(output_smaples[idxs],encoded_prediction[idxs],final_prediction_decoder[idxs])\n",
      "  File \"<ipython-input-29-472f4dff2a62>\", line 5, in display_result\n",
      "    display_one_row(decoded_img,shape=(28,28))\n",
      "TypeError: display_one_row() missing 1 required positional argument: 'offset'\n",
      "\n",
      "During handling of the above exception, another exception occurred:\n",
      "\n",
      "Traceback (most recent call last):\n",
      "  File \"D:\\SOFTWARE\\Anaconda\\envs\\gpu_tf\\lib\\site-packages\\IPython\\core\\interactiveshell.py\", line 2044, in showtraceback\n",
      "    stb = value._render_traceback_()\n",
      "AttributeError: 'TypeError' object has no attribute '_render_traceback_'\n",
      "\n",
      "During handling of the above exception, another exception occurred:\n",
      "\n",
      "Traceback (most recent call last):\n",
      "  File \"D:\\SOFTWARE\\Anaconda\\envs\\gpu_tf\\lib\\site-packages\\IPython\\core\\interactiveshell.py\", line 3263, in run_ast_nodes\n",
      "    if (await self.run_code(code, result,  async_=asy)):\n",
      "  File \"D:\\SOFTWARE\\Anaconda\\envs\\gpu_tf\\lib\\site-packages\\IPython\\core\\interactiveshell.py\", line 3360, in run_code\n",
      "    self.showtraceback(running_compiled_code=True)\n",
      "  File \"D:\\SOFTWARE\\Anaconda\\envs\\gpu_tf\\lib\\site-packages\\IPython\\core\\interactiveshell.py\", line 2047, in showtraceback\n",
      "    value, tb, tb_offset=tb_offset)\n",
      "  File \"D:\\SOFTWARE\\Anaconda\\envs\\gpu_tf\\lib\\site-packages\\IPython\\core\\ultratb.py\", line 1436, in structured_traceback\n",
      "    self, etype, value, tb, tb_offset, number_of_lines_of_context)\n",
      "  File \"D:\\SOFTWARE\\Anaconda\\envs\\gpu_tf\\lib\\site-packages\\IPython\\core\\ultratb.py\", line 1336, in structured_traceback\n",
      "    self, etype, value, tb, tb_offset, number_of_lines_of_context\n",
      "  File \"D:\\SOFTWARE\\Anaconda\\envs\\gpu_tf\\lib\\site-packages\\IPython\\core\\ultratb.py\", line 1193, in structured_traceback\n",
      "    tb_offset)\n",
      "  File \"D:\\SOFTWARE\\Anaconda\\envs\\gpu_tf\\lib\\site-packages\\IPython\\core\\ultratb.py\", line 1150, in format_exception_as_a_whole\n",
      "    last_unique, recursion_repeat = find_recursion(orig_etype, evalue, records)\n",
      "  File \"D:\\SOFTWARE\\Anaconda\\envs\\gpu_tf\\lib\\site-packages\\IPython\\core\\ultratb.py\", line 451, in find_recursion\n",
      "    return len(records), 0\n",
      "TypeError: object of type 'NoneType' has no len()\n",
      "\n",
      "During handling of the above exception, another exception occurred:\n",
      "\n",
      "Traceback (most recent call last):\n",
      "  File \"D:\\SOFTWARE\\Anaconda\\envs\\gpu_tf\\lib\\site-packages\\IPython\\core\\interactiveshell.py\", line 2044, in showtraceback\n",
      "    stb = value._render_traceback_()\n",
      "AttributeError: 'TypeError' object has no attribute '_render_traceback_'\n",
      "\n",
      "During handling of the above exception, another exception occurred:\n",
      "\n",
      "Traceback (most recent call last):\n",
      "  File \"D:\\SOFTWARE\\Anaconda\\envs\\gpu_tf\\lib\\site-packages\\IPython\\core\\interactiveshell.py\", line 2895, in _run_cell\n",
      "    return runner(coro)\n",
      "  File \"D:\\SOFTWARE\\Anaconda\\envs\\gpu_tf\\lib\\site-packages\\IPython\\core\\async_helpers.py\", line 68, in _pseudo_sync_runner\n",
      "    coro.send(None)\n",
      "  File \"D:\\SOFTWARE\\Anaconda\\envs\\gpu_tf\\lib\\site-packages\\IPython\\core\\interactiveshell.py\", line 3072, in run_cell_async\n",
      "    interactivity=interactivity, compiler=compiler, result=result)\n",
      "  File \"D:\\SOFTWARE\\Anaconda\\envs\\gpu_tf\\lib\\site-packages\\IPython\\core\\interactiveshell.py\", line 3282, in run_ast_nodes\n",
      "    self.showtraceback()\n",
      "  File \"D:\\SOFTWARE\\Anaconda\\envs\\gpu_tf\\lib\\site-packages\\IPython\\core\\interactiveshell.py\", line 2047, in showtraceback\n",
      "    value, tb, tb_offset=tb_offset)\n",
      "  File \"D:\\SOFTWARE\\Anaconda\\envs\\gpu_tf\\lib\\site-packages\\IPython\\core\\ultratb.py\", line 1436, in structured_traceback\n",
      "    self, etype, value, tb, tb_offset, number_of_lines_of_context)\n",
      "  File \"D:\\SOFTWARE\\Anaconda\\envs\\gpu_tf\\lib\\site-packages\\IPython\\core\\ultratb.py\", line 1336, in structured_traceback\n",
      "    self, etype, value, tb, tb_offset, number_of_lines_of_context\n",
      "  File \"D:\\SOFTWARE\\Anaconda\\envs\\gpu_tf\\lib\\site-packages\\IPython\\core\\ultratb.py\", line 1211, in structured_traceback\n",
      "    chained_exceptions_tb_offset)\n",
      "  File \"D:\\SOFTWARE\\Anaconda\\envs\\gpu_tf\\lib\\site-packages\\IPython\\core\\ultratb.py\", line 1150, in format_exception_as_a_whole\n",
      "    last_unique, recursion_repeat = find_recursion(orig_etype, evalue, records)\n",
      "  File \"D:\\SOFTWARE\\Anaconda\\envs\\gpu_tf\\lib\\site-packages\\IPython\\core\\ultratb.py\", line 451, in find_recursion\n",
      "    return len(records), 0\n",
      "TypeError: object of type 'NoneType' has no len()\n",
      "\n",
      "During handling of the above exception, another exception occurred:\n",
      "\n",
      "Traceback (most recent call last):\n",
      "  File \"D:\\SOFTWARE\\Anaconda\\envs\\gpu_tf\\lib\\site-packages\\IPython\\core\\interactiveshell.py\", line 2044, in showtraceback\n",
      "    stb = value._render_traceback_()\n",
      "AttributeError: 'TypeError' object has no attribute '_render_traceback_'\n",
      "\n",
      "During handling of the above exception, another exception occurred:\n",
      "\n",
      "Traceback (most recent call last):\n",
      "  File \"D:\\SOFTWARE\\Anaconda\\envs\\gpu_tf\\lib\\site-packages\\IPython\\core\\ultratb.py\", line 1169, in get_records\n",
      "    return _fixed_getinnerframes(etb, number_of_lines_of_context, tb_offset)\n",
      "  File \"D:\\SOFTWARE\\Anaconda\\envs\\gpu_tf\\lib\\site-packages\\IPython\\core\\ultratb.py\", line 316, in wrapped\n",
      "    return f(*args, **kwargs)\n",
      "  File \"D:\\SOFTWARE\\Anaconda\\envs\\gpu_tf\\lib\\site-packages\\IPython\\core\\ultratb.py\", line 350, in _fixed_getinnerframes\n",
      "    records = fix_frame_records_filenames(inspect.getinnerframes(etb, context))\n",
      "  File \"D:\\SOFTWARE\\Anaconda\\envs\\gpu_tf\\lib\\inspect.py\", line 1490, in getinnerframes\n",
      "    frameinfo = (tb.tb_frame,) + getframeinfo(tb, context)\n",
      "  File \"D:\\SOFTWARE\\Anaconda\\envs\\gpu_tf\\lib\\inspect.py\", line 1448, in getframeinfo\n",
      "    filename = getsourcefile(frame) or getfile(frame)\n",
      "  File \"D:\\SOFTWARE\\Anaconda\\envs\\gpu_tf\\lib\\inspect.py\", line 696, in getsourcefile\n",
      "    if getattr(getmodule(object, filename), '__loader__', None) is not None:\n",
      "  File \"D:\\SOFTWARE\\Anaconda\\envs\\gpu_tf\\lib\\inspect.py\", line 733, in getmodule\n",
      "    if ismodule(module) and hasattr(module, '__file__'):\n",
      "  File \"D:\\SOFTWARE\\Anaconda\\envs\\gpu_tf\\lib\\site-packages\\tensorflow\\__init__.py\", line 50, in __getattr__\n",
      "    module = self._load()\n",
      "  File \"D:\\SOFTWARE\\Anaconda\\envs\\gpu_tf\\lib\\site-packages\\tensorflow\\__init__.py\", line 44, in _load\n",
      "    module = _importlib.import_module(self.__name__)\n",
      "  File \"D:\\SOFTWARE\\Anaconda\\envs\\gpu_tf\\lib\\importlib\\__init__.py\", line 126, in import_module\n",
      "    return _bootstrap._gcd_import(name[level:], package, level)\n",
      "  File \"<frozen importlib._bootstrap>\", line 994, in _gcd_import\n",
      "  File \"<frozen importlib._bootstrap>\", line 971, in _find_and_load\n",
      "  File \"<frozen importlib._bootstrap>\", line 953, in _find_and_load_unlocked\n",
      "ModuleNotFoundError: No module named 'tensorflow_core.estimator'\n"
     ]
    },
    {
     "data": {
      "image/png": "[encoded data removed]",
      "text/plain": [
       "<Figure size 1080x360 with 11 Axes>"
      ]
     },
     "metadata": {},
     "output_type": "display_data"
    }
   ],
   "source": [
    "display_result(output_smaples[idxs],encoded_prediction[idxs],final_prediction_decoder[idxs])"
   ]
  },
  {
   "cell_type": "code",
   "execution_count": null,
   "id": "0615132d",
   "metadata": {},
   "outputs": [],
   "source": []
  },
  {
   "cell_type": "code",
   "execution_count": null,
   "id": "494aa2f3",
   "metadata": {},
   "outputs": [],
   "source": []
  },
  {
   "cell_type": "code",
   "execution_count": null,
   "id": "e7b2d40a",
   "metadata": {},
   "outputs": [],
   "source": []
  },
  {
   "cell_type": "code",
   "execution_count": null,
   "id": "e846f6de",
   "metadata": {},
   "outputs": [],
   "source": []
  },
  {
   "cell_type": "code",
   "execution_count": null,
   "id": "c532cea1",
   "metadata": {},
   "outputs": [],
   "source": []
  }
 ],
 "metadata": {
  "kernelspec": {
   "display_name": "Python 3",
   "language": "python",
   "name": "python3"
  },
  "language_info": {
   "codemirror_mode": {
    "name": "ipython",
    "version": 3
   },
   "file_extension": ".py",
   "mimetype": "text/x-python",
   "name": "python",
   "nbconvert_exporter": "python",
   "pygments_lexer": "ipython3",
   "version": "3.6.13"
  }
 },
 "nbformat": 4,
 "nbformat_minor": 5
}
